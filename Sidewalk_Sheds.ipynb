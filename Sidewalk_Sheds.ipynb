{
 "cells": [
  {
   "cell_type": "code",
   "execution_count": 1,
   "metadata": {},
   "outputs": [
    {
     "name": "stderr",
     "output_type": "stream",
     "text": [
      "/Users/rspd/anaconda3/lib/python3.6/site-packages/statsmodels/compat/pandas.py:56: FutureWarning: The pandas.core.datetools module is deprecated and will be removed in a future version. Please use the pandas.tseries module instead.\n",
      "  from pandas.core import datetools\n"
     ]
    },
    {
     "name": "stdout",
     "output_type": "stream",
     "text": [
      "Populating the interactive namespace from numpy and matplotlib\n"
     ]
    }
   ],
   "source": [
    "import numpy as np\n",
    "import pandas as pd\n",
    "import geopandas as gpd\n",
    "import statsmodels.api as sm\n",
    "from scipy.stats import pearsonr\n",
    "import matplotlib.pyplot as plt\n",
    "plt.style.use(\"fivethirtyeight\")\n",
    "%pylab inline"
   ]
  },
  {
   "cell_type": "markdown",
   "metadata": {},
   "source": [
    "### Download data from DOB Sheds Map\n",
    "Source: https://www1.nyc.gov/assets/buildings/html/sidewalk-shed-map.html"
   ]
  },
  {
   "cell_type": "code",
   "execution_count": 2,
   "metadata": {},
   "outputs": [
    {
     "name": "stdout",
     "output_type": "stream",
     "text": [
      "(8233, 26)\n",
      "Index(['the_geom', 'bin_number', 'the_geom_webmercator', 'job_number',\n",
      "       'borough_name', 'count_permits', 'first_permit_date', 'current_date',\n",
      "       'age', 'permit_expiration_date', 'sidewalk_shed_linear_feet',\n",
      "       'construction_material', 'current_job_status', 'cartodb_id',\n",
      "       'community_board', 'latitude_point', 'longitude_point', 'house_number',\n",
      "       'street_name', 'borough_digit', 'block', 'lot',\n",
      "       'applicant_business_name', 'procert', 'source', 'activity'],\n",
      "      dtype='object')\n"
     ]
    },
    {
     "data": {
      "text/html": [
       "<div>\n",
       "<style scoped>\n",
       "    .dataframe tbody tr th:only-of-type {\n",
       "        vertical-align: middle;\n",
       "    }\n",
       "\n",
       "    .dataframe tbody tr th {\n",
       "        vertical-align: top;\n",
       "    }\n",
       "\n",
       "    .dataframe thead th {\n",
       "        text-align: right;\n",
       "    }\n",
       "</style>\n",
       "<table border=\"1\" class=\"dataframe\">\n",
       "  <thead>\n",
       "    <tr style=\"text-align: right;\">\n",
       "      <th></th>\n",
       "      <th>the_geom</th>\n",
       "      <th>bin_number</th>\n",
       "      <th>the_geom_webmercator</th>\n",
       "      <th>job_number</th>\n",
       "      <th>borough_name</th>\n",
       "      <th>count_permits</th>\n",
       "      <th>first_permit_date</th>\n",
       "      <th>current_date</th>\n",
       "      <th>age</th>\n",
       "      <th>permit_expiration_date</th>\n",
       "      <th>...</th>\n",
       "      <th>longitude_point</th>\n",
       "      <th>house_number</th>\n",
       "      <th>street_name</th>\n",
       "      <th>borough_digit</th>\n",
       "      <th>block</th>\n",
       "      <th>lot</th>\n",
       "      <th>applicant_business_name</th>\n",
       "      <th>procert</th>\n",
       "      <th>source</th>\n",
       "      <th>activity</th>\n",
       "    </tr>\n",
       "  </thead>\n",
       "  <tbody>\n",
       "    <tr>\n",
       "      <th>0</th>\n",
       "      <td>NaN</td>\n",
       "      <td>4007109</td>\n",
       "      <td>NaN</td>\n",
       "      <td>440245192(BIS)</td>\n",
       "      <td>QUEENS</td>\n",
       "      <td>0.0</td>\n",
       "      <td>8/19/2015 12:00</td>\n",
       "      <td>6/21/2018</td>\n",
       "      <td>1036</td>\n",
       "      <td>8/11/2018</td>\n",
       "      <td>...</td>\n",
       "      <td>-73.926628</td>\n",
       "      <td>31-35</td>\n",
       "      <td>CRESCENT STREET</td>\n",
       "      <td>4</td>\n",
       "      <td>579</td>\n",
       "      <td>36.0</td>\n",
       "      <td>SCAFFOLD DISTRIBUTORS OF</td>\n",
       "      <td>1</td>\n",
       "      <td>BIS</td>\n",
       "      <td>Local Law 11</td>\n",
       "    </tr>\n",
       "    <tr>\n",
       "      <th>1</th>\n",
       "      <td>NaN</td>\n",
       "      <td>2083678</td>\n",
       "      <td>NaN</td>\n",
       "      <td>240114149(BIS)</td>\n",
       "      <td>BRONX</td>\n",
       "      <td>0.0</td>\n",
       "      <td>9/21/2015 12:00</td>\n",
       "      <td>6/21/2018</td>\n",
       "      <td>1003</td>\n",
       "      <td>10/17/2018</td>\n",
       "      <td>...</td>\n",
       "      <td>-73.906502</td>\n",
       "      <td>3409</td>\n",
       "      <td>IRWIN AVENUE</td>\n",
       "      <td>2</td>\n",
       "      <td>5759</td>\n",
       "      <td>573.0</td>\n",
       "      <td>METRO CONTRACTING NY, INC</td>\n",
       "      <td>1</td>\n",
       "      <td>BIS</td>\n",
       "      <td>Local Law 11</td>\n",
       "    </tr>\n",
       "    <tr>\n",
       "      <th>2</th>\n",
       "      <td>NaN</td>\n",
       "      <td>3215591</td>\n",
       "      <td>NaN</td>\n",
       "      <td>340299803(BIS)</td>\n",
       "      <td>BROOKLYN</td>\n",
       "      <td>0.0</td>\n",
       "      <td>10/17/2015 12:00</td>\n",
       "      <td>6/21/2018</td>\n",
       "      <td>977</td>\n",
       "      <td>9/26/2018</td>\n",
       "      <td>...</td>\n",
       "      <td>-73.927513</td>\n",
       "      <td>1258</td>\n",
       "      <td>EAST 51 STREET</td>\n",
       "      <td>3</td>\n",
       "      <td>7776</td>\n",
       "      <td>26.0</td>\n",
       "      <td>ROCK GROUP NY CORP</td>\n",
       "      <td>1</td>\n",
       "      <td>BIS</td>\n",
       "      <td>Local Law 11</td>\n",
       "    </tr>\n",
       "    <tr>\n",
       "      <th>3</th>\n",
       "      <td>NaN</td>\n",
       "      <td>2092678</td>\n",
       "      <td>NaN</td>\n",
       "      <td>240124307(BIS)</td>\n",
       "      <td>BRONX</td>\n",
       "      <td>0.0</td>\n",
       "      <td>11/24/2015 12:00</td>\n",
       "      <td>6/21/2018</td>\n",
       "      <td>939</td>\n",
       "      <td>6/12/2019</td>\n",
       "      <td>...</td>\n",
       "      <td>-73.846298</td>\n",
       "      <td>2245</td>\n",
       "      <td>RANDALL AVENUE</td>\n",
       "      <td>2</td>\n",
       "      <td>3573</td>\n",
       "      <td>1.0</td>\n",
       "      <td>ABAX INC</td>\n",
       "      <td>1</td>\n",
       "      <td>BIS</td>\n",
       "      <td>Local Law 11</td>\n",
       "    </tr>\n",
       "    <tr>\n",
       "      <th>4</th>\n",
       "      <td>NaN</td>\n",
       "      <td>2008130</td>\n",
       "      <td>NaN</td>\n",
       "      <td>240145794(BIS)</td>\n",
       "      <td>BRONX</td>\n",
       "      <td>0.0</td>\n",
       "      <td>6/17/2016 12:00</td>\n",
       "      <td>6/21/2018</td>\n",
       "      <td>733</td>\n",
       "      <td>6/4/2019</td>\n",
       "      <td>...</td>\n",
       "      <td>-73.914230</td>\n",
       "      <td>1525</td>\n",
       "      <td>WALTON AVENUE</td>\n",
       "      <td>2</td>\n",
       "      <td>2845</td>\n",
       "      <td>70.0</td>\n",
       "      <td>ADVANCED CONSTRUCTION EQU</td>\n",
       "      <td>1</td>\n",
       "      <td>BIS</td>\n",
       "      <td>Local Law 11</td>\n",
       "    </tr>\n",
       "  </tbody>\n",
       "</table>\n",
       "<p>5 rows × 26 columns</p>\n",
       "</div>"
      ],
      "text/plain": [
       "   the_geom  bin_number  the_geom_webmercator      job_number borough_name  \\\n",
       "0       NaN     4007109                   NaN  440245192(BIS)       QUEENS   \n",
       "1       NaN     2083678                   NaN  240114149(BIS)        BRONX   \n",
       "2       NaN     3215591                   NaN  340299803(BIS)     BROOKLYN   \n",
       "3       NaN     2092678                   NaN  240124307(BIS)        BRONX   \n",
       "4       NaN     2008130                   NaN  240145794(BIS)        BRONX   \n",
       "\n",
       "   count_permits first_permit_date current_date   age permit_expiration_date  \\\n",
       "0            0.0   8/19/2015 12:00    6/21/2018  1036              8/11/2018   \n",
       "1            0.0   9/21/2015 12:00    6/21/2018  1003             10/17/2018   \n",
       "2            0.0  10/17/2015 12:00    6/21/2018   977              9/26/2018   \n",
       "3            0.0  11/24/2015 12:00    6/21/2018   939              6/12/2019   \n",
       "4            0.0   6/17/2016 12:00    6/21/2018   733               6/4/2019   \n",
       "\n",
       "       ...       longitude_point house_number      street_name  borough_digit  \\\n",
       "0      ...            -73.926628        31-35  CRESCENT STREET              4   \n",
       "1      ...            -73.906502         3409     IRWIN AVENUE              2   \n",
       "2      ...            -73.927513         1258   EAST 51 STREET              3   \n",
       "3      ...            -73.846298         2245   RANDALL AVENUE              2   \n",
       "4      ...            -73.914230         1525    WALTON AVENUE              2   \n",
       "\n",
       "   block    lot    applicant_business_name procert source      activity  \n",
       "0    579   36.0   SCAFFOLD DISTRIBUTORS OF       1    BIS  Local Law 11  \n",
       "1   5759  573.0  METRO CONTRACTING NY, INC       1    BIS  Local Law 11  \n",
       "2   7776   26.0         ROCK GROUP NY CORP       1    BIS  Local Law 11  \n",
       "3   3573    1.0                   ABAX INC       1    BIS  Local Law 11  \n",
       "4   2845   70.0  ADVANCED CONSTRUCTION EQU       1    BIS  Local Law 11  \n",
       "\n",
       "[5 rows x 26 columns]"
      ]
     },
     "execution_count": 2,
     "metadata": {},
     "output_type": "execute_result"
    }
   ],
   "source": [
    "dobmap = pd.read_csv('data/cartodb-query.csv')\n",
    "print(dobmap.shape)\n",
    "print(dobmap.columns)\n",
    "dobmap.head()"
   ]
  },
  {
   "cell_type": "markdown",
   "metadata": {},
   "source": [
    "### Adding a full BBL variable (Currently has it split between three columns)"
   ]
  },
  {
   "cell_type": "markdown",
   "metadata": {},
   "source": [
    "**From PLUTO data dictionary:**\n",
    "This field consists of the borough code followed by the tax block followed by the tax lot. The borough code is one numeric digit. The tax block is one to five numeric digits, preceded with leading zeros when the block is less than five digits. The tax lot is one to four digits and is preceded with leading zeros when the lot is less than four digits.\n",
    "Examples:\n",
    "Manhattan Borough Code 1, Tax Block 16, Tax Lot 100 would be stored as 1000160100.\n",
    "Brooklyn Borough Code 3, Tax Block 15828, Tax Lot 7501 would be stored as 5158287501."
   ]
  },
  {
   "cell_type": "code",
   "execution_count": 3,
   "metadata": {},
   "outputs": [
    {
     "data": {
      "text/plain": [
       "0       4005790036\n",
       "800     4094120051\n",
       "1600    3053360082\n",
       "2400    1012700001\n",
       "3200    4003750001\n",
       "4000    1019890050\n",
       "4800    1001690010\n",
       "5600    1020350001\n",
       "6400    4034550041\n",
       "7200    3072470264\n",
       "8000    4063710010\n",
       "Name: bbl, dtype: object"
      ]
     },
     "execution_count": 3,
     "metadata": {},
     "output_type": "execute_result"
    }
   ],
   "source": [
    "dobmap['block'] = '0000' + dobmap['block'].astype(str)\n",
    "dobmap['block'] = dobmap['block'].str[-5:]\n",
    "dobmap['lot'] = dobmap['lot'].fillna(0).astype(int)\n",
    "dobmap['lot'] = '0000' + dobmap['lot'].astype(str)\n",
    "dobmap['lot'] = dobmap['lot'].str[-4:]\n",
    "dobmap['bbl'] = dobmap['borough_digit'].astype(str) + dobmap['block'].astype(str) + dobmap['lot'].astype(str)\n",
    "dobmap['bbl'][::800]"
   ]
  },
  {
   "cell_type": "markdown",
   "metadata": {},
   "source": [
    "### Adding a column with a 1 to be able to groupby later on"
   ]
  },
  {
   "cell_type": "code",
   "execution_count": 4,
   "metadata": {},
   "outputs": [],
   "source": [
    "dobmap['num_sheds'] = 1"
   ]
  },
  {
   "cell_type": "markdown",
   "metadata": {},
   "source": [
    "### How many sheds are for Local Law 11 (FISP)?"
   ]
  },
  {
   "cell_type": "code",
   "execution_count": 5,
   "metadata": {},
   "outputs": [
    {
     "name": "stdout",
     "output_type": "stream",
     "text": [
      "Construction or Maintenance    5745\n",
      "Local Law 11                   2488\n",
      "Name: activity, dtype: int64\n",
      "Percent of Sheds that Are Local Law 11: 30.22\n"
     ]
    }
   ],
   "source": [
    "print(dobmap['activity'].value_counts())\n",
    "print(\"Percent of Sheds that Are Local Law 11:\", ((dobmap['activity'] == 'Local Law 11').sum() / \n",
    "      ((dobmap['activity'] == 'Construction or Maintenance').sum() + (dobmap['activity'] == 'Local Law 11').sum()) * 100).round(2))"
   ]
  },
  {
   "cell_type": "markdown",
   "metadata": {},
   "source": [
    "### Filtering dataset to just Local Law 11 records"
   ]
  },
  {
   "cell_type": "code",
   "execution_count": 6,
   "metadata": {},
   "outputs": [],
   "source": [
    "dobmap_11 = dobmap[dobmap['activity'] == 'Local Law 11']"
   ]
  },
  {
   "cell_type": "markdown",
   "metadata": {},
   "source": [
    "### How old are the sheds? "
   ]
  },
  {
   "cell_type": "code",
   "execution_count": 7,
   "metadata": {},
   "outputs": [
    {
     "name": "stdout",
     "output_type": "stream",
     "text": [
      "The average shed has been up for 428 days.\n",
      "The median shed has been up for 312 days.\n",
      "The youngest sheds have been up for 0 days.\n",
      "The oldest sheds have been up for 4437 days.\n",
      "1068 sheds have been up for more than 1 year.\n",
      "444 sheds have been up for more than 2 years.\n",
      "167 sheds have been up for more than 3 years.\n",
      "99 sheds have been up for more than 4 years.\n",
      "50 sheds have been up for more than 5 years.\n",
      "24 sheds have been up for more than 6 years.\n",
      "13 sheds have been up for more than 7 years.\n",
      "8 sheds have been up for more than 8 years.\n"
     ]
    }
   ],
   "source": [
    "print(\"The average shed has been up for\", round(dobmap_11['age'].mean()), \"days.\")\n",
    "print(\"The median shed has been up for\", round(dobmap_11['age'].median()), \"days.\")\n",
    "print(\"The youngest sheds have been up for\", round(dobmap_11['age'].min()), \"days.\")\n",
    "print(\"The oldest sheds have been up for\", round(dobmap_11['age'].max()), \"days.\")\n",
    "print((dobmap_11['age']>365).sum(), \"sheds have been up for more than 1 year.\")\n",
    "print((dobmap_11['age']>365*2).sum(), \"sheds have been up for more than 2 years.\")\n",
    "print((dobmap_11['age']>365*3).sum(), \"sheds have been up for more than 3 years.\")\n",
    "print((dobmap_11['age']>365*4).sum(), \"sheds have been up for more than 4 years.\")\n",
    "print((dobmap_11['age']>365*5).sum(), \"sheds have been up for more than 5 years.\")\n",
    "print((dobmap_11['age']>365*6).sum(), \"sheds have been up for more than 6 years.\")\n",
    "print((dobmap_11['age']>365*7).sum(), \"sheds have been up for more than 7 years.\")\n",
    "print((dobmap_11['age']>365*8).sum(), \"sheds have been up for more than 8 years.\")"
   ]
  },
  {
   "cell_type": "code",
   "execution_count": 8,
   "metadata": {},
   "outputs": [
    {
     "data": {
      "text/plain": [
       "array([[<matplotlib.axes._subplots.AxesSubplot object at 0x10ff0b550>]],\n",
       "      dtype=object)"
      ]
     },
     "execution_count": 8,
     "metadata": {},
     "output_type": "execute_result"
    },
    {
     "data": {
      "image/png": "[encoded data removed]",
      "text/plain": [
       "<Figure size 576x432 with 1 Axes>"
      ]
     },
     "metadata": {},
     "output_type": "display_data"
    }
   ],
   "source": [
    "dobmap_11.hist('age', bins=100, figsize=(8,6))"
   ]
  },
  {
   "cell_type": "markdown",
   "metadata": {},
   "source": [
    "### How big are the sheds? "
   ]
  },
  {
   "cell_type": "code",
   "execution_count": 9,
   "metadata": {},
   "outputs": [
    {
     "name": "stdout",
     "output_type": "stream",
     "text": [
      "The average shed length is 295 feet.\n",
      "The median shed length is 210 feet.\n",
      "The minimum shed length is 8 feet.\n",
      "The maximum shed length is 2924 feet (equal to 0.55 miles).\n"
     ]
    }
   ],
   "source": [
    "print(\"The average shed length is\", round(dobmap_11['sidewalk_shed_linear_feet'].mean()), \"feet.\")\n",
    "print(\"The median shed length is\", round(dobmap_11['sidewalk_shed_linear_feet'].median()), \"feet.\")\n",
    "print(\"The minimum shed length is\", round(dobmap_11['sidewalk_shed_linear_feet'].min()), \"feet.\")\n",
    "print(\"The maximum shed length is\", round(dobmap_11['sidewalk_shed_linear_feet'].max()), \"feet (equal to\", \n",
    "      round(dobmap_11['sidewalk_shed_linear_feet'].max()/5280, 2), 'miles).')"
   ]
  },
  {
   "cell_type": "markdown",
   "metadata": {},
   "source": [
    "#### Where are the 10 biggest sheds and how old are they? "
   ]
  },
  {
   "cell_type": "code",
   "execution_count": 10,
   "metadata": {},
   "outputs": [
    {
     "data": {
      "text/html": [
       "<div>\n",
       "<style scoped>\n",
       "    .dataframe tbody tr th:only-of-type {\n",
       "        vertical-align: middle;\n",
       "    }\n",
       "\n",
       "    .dataframe tbody tr th {\n",
       "        vertical-align: top;\n",
       "    }\n",
       "\n",
       "    .dataframe thead th {\n",
       "        text-align: right;\n",
       "    }\n",
       "</style>\n",
       "<table border=\"1\" class=\"dataframe\">\n",
       "  <thead>\n",
       "    <tr style=\"text-align: right;\">\n",
       "      <th></th>\n",
       "      <th>sidewalk_shed_linear_feet</th>\n",
       "      <th>borough_name</th>\n",
       "      <th>age</th>\n",
       "    </tr>\n",
       "  </thead>\n",
       "  <tbody>\n",
       "    <tr>\n",
       "      <th>946</th>\n",
       "      <td>2924</td>\n",
       "      <td>BRONX</td>\n",
       "      <td>831</td>\n",
       "    </tr>\n",
       "    <tr>\n",
       "      <th>8018</th>\n",
       "      <td>2170</td>\n",
       "      <td>QUEENS</td>\n",
       "      <td>2</td>\n",
       "    </tr>\n",
       "    <tr>\n",
       "      <th>1154</th>\n",
       "      <td>2100</td>\n",
       "      <td>QUEENS</td>\n",
       "      <td>729</td>\n",
       "    </tr>\n",
       "    <tr>\n",
       "      <th>4827</th>\n",
       "      <td>2000</td>\n",
       "      <td>MANHATTAN</td>\n",
       "      <td>187</td>\n",
       "    </tr>\n",
       "    <tr>\n",
       "      <th>807</th>\n",
       "      <td>1997</td>\n",
       "      <td>BRONX</td>\n",
       "      <td>912</td>\n",
       "    </tr>\n",
       "    <tr>\n",
       "      <th>2003</th>\n",
       "      <td>1983</td>\n",
       "      <td>BROOKLYN</td>\n",
       "      <td>510</td>\n",
       "    </tr>\n",
       "    <tr>\n",
       "      <th>4292</th>\n",
       "      <td>1948</td>\n",
       "      <td>BROOKLYN</td>\n",
       "      <td>273</td>\n",
       "    </tr>\n",
       "    <tr>\n",
       "      <th>4291</th>\n",
       "      <td>1948</td>\n",
       "      <td>BROOKLYN</td>\n",
       "      <td>273</td>\n",
       "    </tr>\n",
       "    <tr>\n",
       "      <th>420</th>\n",
       "      <td>1843</td>\n",
       "      <td>BRONX</td>\n",
       "      <td>1163</td>\n",
       "    </tr>\n",
       "    <tr>\n",
       "      <th>319</th>\n",
       "      <td>1837</td>\n",
       "      <td>MANHATTAN</td>\n",
       "      <td>1322</td>\n",
       "    </tr>\n",
       "  </tbody>\n",
       "</table>\n",
       "</div>"
      ],
      "text/plain": [
       "      sidewalk_shed_linear_feet borough_name   age\n",
       "946                        2924        BRONX   831\n",
       "8018                       2170       QUEENS     2\n",
       "1154                       2100       QUEENS   729\n",
       "4827                       2000    MANHATTAN   187\n",
       "807                        1997        BRONX   912\n",
       "2003                       1983     BROOKLYN   510\n",
       "4292                       1948     BROOKLYN   273\n",
       "4291                       1948     BROOKLYN   273\n",
       "420                        1843        BRONX  1163\n",
       "319                        1837    MANHATTAN  1322"
      ]
     },
     "execution_count": 10,
     "metadata": {},
     "output_type": "execute_result"
    }
   ],
   "source": [
    "dobmap_11.sort_values('sidewalk_shed_linear_feet', ascending=False).head(10)[['sidewalk_shed_linear_feet', 'borough_name', 'age']]"
   ]
  },
  {
   "cell_type": "markdown",
   "metadata": {},
   "source": [
    "**Many of the biggest sheds have been up for more than 1 year**"
   ]
  },
  {
   "cell_type": "code",
   "execution_count": 11,
   "metadata": {},
   "outputs": [
    {
     "data": {
      "text/plain": [
       "array([[<matplotlib.axes._subplots.AxesSubplot object at 0x116a46828>]],\n",
       "      dtype=object)"
      ]
     },
     "execution_count": 11,
     "metadata": {},
     "output_type": "execute_result"
    },
    {
     "data": {
      "image/png": "[encoded data removed]",
      "text/plain": [
       "<Figure size 576x432 with 1 Axes>"
      ]
     },
     "metadata": {},
     "output_type": "display_data"
    }
   ],
   "source": [
    "dobmap_11.hist('sidewalk_shed_linear_feet', bins=100, figsize=(8,6))"
   ]
  },
  {
   "cell_type": "markdown",
   "metadata": {},
   "source": [
    "### Is there any correlation between shed length and shed age? "
   ]
  },
  {
   "cell_type": "code",
   "execution_count": 12,
   "metadata": {},
   "outputs": [
    {
     "data": {
      "text/html": [
       "<table class=\"simpletable\">\n",
       "<caption>OLS Regression Results</caption>\n",
       "<tr>\n",
       "  <th>Dep. Variable:</th>           <td>age</td>       <th>  R-squared:         </th> <td>   0.254</td> \n",
       "</tr>\n",
       "<tr>\n",
       "  <th>Model:</th>                   <td>OLS</td>       <th>  Adj. R-squared:    </th> <td>   0.254</td> \n",
       "</tr>\n",
       "<tr>\n",
       "  <th>Method:</th>             <td>Least Squares</td>  <th>  F-statistic:       </th> <td>   848.9</td> \n",
       "</tr>\n",
       "<tr>\n",
       "  <th>Date:</th>             <td>Fri, 22 Jun 2018</td> <th>  Prob (F-statistic):</th> <td>8.14e-161</td>\n",
       "</tr>\n",
       "<tr>\n",
       "  <th>Time:</th>                 <td>13:05:25</td>     <th>  Log-Likelihood:    </th> <td> -19218.</td> \n",
       "</tr>\n",
       "<tr>\n",
       "  <th>No. Observations:</th>      <td>  2488</td>      <th>  AIC:               </th> <td>3.844e+04</td>\n",
       "</tr>\n",
       "<tr>\n",
       "  <th>Df Residuals:</th>          <td>  2487</td>      <th>  BIC:               </th> <td>3.844e+04</td>\n",
       "</tr>\n",
       "<tr>\n",
       "  <th>Df Model:</th>              <td>     1</td>      <th>                     </th>     <td> </td>    \n",
       "</tr>\n",
       "<tr>\n",
       "  <th>Covariance Type:</th>      <td>nonrobust</td>    <th>                     </th>     <td> </td>    \n",
       "</tr>\n",
       "</table>\n",
       "<table class=\"simpletable\">\n",
       "<tr>\n",
       "              <td></td>                 <th>coef</th>     <th>std err</th>      <th>t</th>      <th>P>|t|</th>  <th>[0.025</th>    <th>0.975]</th>  \n",
       "</tr>\n",
       "<tr>\n",
       "  <th>sidewalk_shed_linear_feet</th> <td>    0.7712</td> <td>    0.026</td> <td>   29.136</td> <td> 0.000</td> <td>    0.719</td> <td>    0.823</td>\n",
       "</tr>\n",
       "</table>\n",
       "<table class=\"simpletable\">\n",
       "<tr>\n",
       "  <th>Omnibus:</th>       <td>939.377</td> <th>  Durbin-Watson:     </th> <td>   0.298</td>\n",
       "</tr>\n",
       "<tr>\n",
       "  <th>Prob(Omnibus):</th> <td> 0.000</td>  <th>  Jarque-Bera (JB):  </th> <td>6017.119</td>\n",
       "</tr>\n",
       "<tr>\n",
       "  <th>Skew:</th>          <td> 1.645</td>  <th>  Prob(JB):          </th> <td>    0.00</td>\n",
       "</tr>\n",
       "<tr>\n",
       "  <th>Kurtosis:</th>      <td> 9.872</td>  <th>  Cond. No.          </th> <td>    1.00</td>\n",
       "</tr>\n",
       "</table>"
      ],
      "text/plain": [
       "<class 'statsmodels.iolib.summary.Summary'>\n",
       "\"\"\"\n",
       "                            OLS Regression Results                            \n",
       "==============================================================================\n",
       "Dep. Variable:                    age   R-squared:                       0.254\n",
       "Model:                            OLS   Adj. R-squared:                  0.254\n",
       "Method:                 Least Squares   F-statistic:                     848.9\n",
       "Date:                Fri, 22 Jun 2018   Prob (F-statistic):          8.14e-161\n",
       "Time:                        13:05:25   Log-Likelihood:                -19218.\n",
       "No. Observations:                2488   AIC:                         3.844e+04\n",
       "Df Residuals:                    2487   BIC:                         3.844e+04\n",
       "Df Model:                           1                                         \n",
       "Covariance Type:            nonrobust                                         \n",
       "=============================================================================================\n",
       "                                coef    std err          t      P>|t|      [0.025      0.975]\n",
       "---------------------------------------------------------------------------------------------\n",
       "sidewalk_shed_linear_feet     0.7712      0.026     29.136      0.000       0.719       0.823\n",
       "==============================================================================\n",
       "Omnibus:                      939.377   Durbin-Watson:                   0.298\n",
       "Prob(Omnibus):                  0.000   Jarque-Bera (JB):             6017.119\n",
       "Skew:                           1.645   Prob(JB):                         0.00\n",
       "Kurtosis:                       9.872   Cond. No.                         1.00\n",
       "==============================================================================\n",
       "\n",
       "Warnings:\n",
       "[1] Standard Errors assume that the covariance matrix of the errors is correctly specified.\n",
       "\"\"\""
      ]
     },
     "execution_count": 12,
     "metadata": {},
     "output_type": "execute_result"
    }
   ],
   "source": [
    "y = dobmap_11['age']\n",
    "X = dobmap_11['sidewalk_shed_linear_feet']\n",
    "model = sm.OLS(y, X).fit()\n",
    "model.summary()"
   ]
  },
  {
   "cell_type": "markdown",
   "metadata": {},
   "source": [
    "**The R2 between age and length is 0.254**"
   ]
  },
  {
   "cell_type": "markdown",
   "metadata": {},
   "source": [
    "### Who are the most frequent applicants?"
   ]
  },
  {
   "cell_type": "code",
   "execution_count": 13,
   "metadata": {},
   "outputs": [
    {
     "data": {
      "text/plain": [
       "AE DESIGN SOLUTION INC     277\n",
       "EVEREST SCAFFOLDING INC    168\n",
       "JOEL PHAGOO P.E. PLLC      124\n",
       "VICTOR SUBEN P.E           108\n",
       "SPRING SCAFFOLDING LLC     104\n",
       "ROCK GROUP NY CORP          99\n",
       "SKYWORX CONTRACTING INC     83\n",
       "PHOENIX SUTTON STR INC      59\n",
       "ROMA SCAFFOLDING INC        53\n",
       "BRIAN T. O'CONNOR           51\n",
       "Name: applicant_business_name, dtype: int64"
      ]
     },
     "execution_count": 13,
     "metadata": {},
     "output_type": "execute_result"
    }
   ],
   "source": [
    "dobmap_11['applicant_business_name'].value_counts().head(10)"
   ]
  },
  {
   "cell_type": "markdown",
   "metadata": {},
   "source": [
    "**One company stands out as having far more than any other company: AE Design Solutions**"
   ]
  },
  {
   "cell_type": "markdown",
   "metadata": {},
   "source": [
    "### Does shed age differ by the applicant name? "
   ]
  },
  {
   "cell_type": "markdown",
   "metadata": {},
   "source": [
    "#### Companies with the oldest median shed age"
   ]
  },
  {
   "cell_type": "code",
   "execution_count": 14,
   "metadata": {},
   "outputs": [
    {
     "data": {
      "text/html": [
       "<div>\n",
       "<style scoped>\n",
       "    .dataframe tbody tr th:only-of-type {\n",
       "        vertical-align: middle;\n",
       "    }\n",
       "\n",
       "    .dataframe tbody tr th {\n",
       "        vertical-align: top;\n",
       "    }\n",
       "\n",
       "    .dataframe thead th {\n",
       "        text-align: right;\n",
       "    }\n",
       "</style>\n",
       "<table border=\"1\" class=\"dataframe\">\n",
       "  <thead>\n",
       "    <tr style=\"text-align: right;\">\n",
       "      <th></th>\n",
       "      <th>applicant_business_name</th>\n",
       "      <th>age_median</th>\n",
       "      <th>num_sheds_sum</th>\n",
       "    </tr>\n",
       "  </thead>\n",
       "  <tbody>\n",
       "    <tr>\n",
       "      <th>96</th>\n",
       "      <td>PICCO CONSTRUCTION LLC</td>\n",
       "      <td>3745.0</td>\n",
       "      <td>1</td>\n",
       "    </tr>\n",
       "    <tr>\n",
       "      <th>72</th>\n",
       "      <td>LO SARDO GENERAL CONTRACT</td>\n",
       "      <td>3604.0</td>\n",
       "      <td>1</td>\n",
       "    </tr>\n",
       "    <tr>\n",
       "      <th>122</th>\n",
       "      <td>SASCO CONSTRUCTION ENTER</td>\n",
       "      <td>2371.0</td>\n",
       "      <td>3</td>\n",
       "    </tr>\n",
       "    <tr>\n",
       "      <th>145</th>\n",
       "      <td>TRES CONSTRUCTION LLC</td>\n",
       "      <td>2120.0</td>\n",
       "      <td>1</td>\n",
       "    </tr>\n",
       "    <tr>\n",
       "      <th>107</th>\n",
       "      <td>RASHEL CONSTRUCTION CORP</td>\n",
       "      <td>1538.0</td>\n",
       "      <td>2</td>\n",
       "    </tr>\n",
       "    <tr>\n",
       "      <th>119</th>\n",
       "      <td>S&amp;E BRIDGE &amp; SCAFFOLD LLC</td>\n",
       "      <td>1467.0</td>\n",
       "      <td>10</td>\n",
       "    </tr>\n",
       "    <tr>\n",
       "      <th>105</th>\n",
       "      <td>PRECISION HOIST &amp; SCAFFO*</td>\n",
       "      <td>1309.0</td>\n",
       "      <td>3</td>\n",
       "    </tr>\n",
       "    <tr>\n",
       "      <th>78</th>\n",
       "      <td>MINELLI CONSTRUCTION CO</td>\n",
       "      <td>1290.0</td>\n",
       "      <td>1</td>\n",
       "    </tr>\n",
       "    <tr>\n",
       "      <th>5</th>\n",
       "      <td>ABDUL KARIM</td>\n",
       "      <td>1232.0</td>\n",
       "      <td>1</td>\n",
       "    </tr>\n",
       "    <tr>\n",
       "      <th>55</th>\n",
       "      <td>HERBERT ROSE INC</td>\n",
       "      <td>1108.0</td>\n",
       "      <td>1</td>\n",
       "    </tr>\n",
       "  </tbody>\n",
       "</table>\n",
       "</div>"
      ],
      "text/plain": [
       "       applicant_business_name  age_median  num_sheds_sum\n",
       "96      PICCO CONSTRUCTION LLC      3745.0              1\n",
       "72   LO SARDO GENERAL CONTRACT      3604.0              1\n",
       "122   SASCO CONSTRUCTION ENTER      2371.0              3\n",
       "145      TRES CONSTRUCTION LLC      2120.0              1\n",
       "107   RASHEL CONSTRUCTION CORP      1538.0              2\n",
       "119  S&E BRIDGE & SCAFFOLD LLC      1467.0             10\n",
       "105  PRECISION HOIST & SCAFFO*      1309.0              3\n",
       "78     MINELLI CONSTRUCTION CO      1290.0              1\n",
       "5                  ABDUL KARIM      1232.0              1\n",
       "55            HERBERT ROSE INC      1108.0              1"
      ]
     },
     "execution_count": 14,
     "metadata": {},
     "output_type": "execute_result"
    }
   ],
   "source": [
    "gby_dct = {'age': ['median'], 'num_sheds': ['sum']}\n",
    "gby = dobmap_11.groupby([\"applicant_business_name\"]).agg(gby_dct).reset_index()\n",
    "gby.columns = gby.columns.droplevel(1)\n",
    "gby.columns = ['applicant_business_name', 'age_median', 'num_sheds_sum']\n",
    "gby.sort_values('age_median', ascending=False).head(10)"
   ]
  },
  {
   "cell_type": "markdown",
   "metadata": {},
   "source": [
    "#### Companies with the most number of sheds"
   ]
  },
  {
   "cell_type": "code",
   "execution_count": 15,
   "metadata": {},
   "outputs": [
    {
     "data": {
      "text/html": [
       "<div>\n",
       "<style scoped>\n",
       "    .dataframe tbody tr th:only-of-type {\n",
       "        vertical-align: middle;\n",
       "    }\n",
       "\n",
       "    .dataframe tbody tr th {\n",
       "        vertical-align: top;\n",
       "    }\n",
       "\n",
       "    .dataframe thead th {\n",
       "        text-align: right;\n",
       "    }\n",
       "</style>\n",
       "<table border=\"1\" class=\"dataframe\">\n",
       "  <thead>\n",
       "    <tr style=\"text-align: right;\">\n",
       "      <th></th>\n",
       "      <th>applicant_business_name</th>\n",
       "      <th>age_median</th>\n",
       "      <th>num_sheds_sum</th>\n",
       "    </tr>\n",
       "  </thead>\n",
       "  <tbody>\n",
       "    <tr>\n",
       "      <th>8</th>\n",
       "      <td>AE DESIGN SOLUTION INC</td>\n",
       "      <td>69.0</td>\n",
       "      <td>277</td>\n",
       "    </tr>\n",
       "    <tr>\n",
       "      <th>45</th>\n",
       "      <td>EVEREST SCAFFOLDING INC</td>\n",
       "      <td>500.5</td>\n",
       "      <td>168</td>\n",
       "    </tr>\n",
       "    <tr>\n",
       "      <th>64</th>\n",
       "      <td>JOEL PHAGOO P.E. PLLC</td>\n",
       "      <td>59.5</td>\n",
       "      <td>124</td>\n",
       "    </tr>\n",
       "    <tr>\n",
       "      <th>156</th>\n",
       "      <td>VICTOR SUBEN P.E</td>\n",
       "      <td>62.0</td>\n",
       "      <td>108</td>\n",
       "    </tr>\n",
       "    <tr>\n",
       "      <th>134</th>\n",
       "      <td>SPRING SCAFFOLDING LLC</td>\n",
       "      <td>481.0</td>\n",
       "      <td>104</td>\n",
       "    </tr>\n",
       "    <tr>\n",
       "      <th>114</th>\n",
       "      <td>ROCK GROUP NY CORP</td>\n",
       "      <td>548.0</td>\n",
       "      <td>99</td>\n",
       "    </tr>\n",
       "    <tr>\n",
       "      <th>132</th>\n",
       "      <td>SKYWORX CONTRACTING INC</td>\n",
       "      <td>617.0</td>\n",
       "      <td>83</td>\n",
       "    </tr>\n",
       "    <tr>\n",
       "      <th>95</th>\n",
       "      <td>PHOENIX SUTTON STR INC</td>\n",
       "      <td>468.0</td>\n",
       "      <td>59</td>\n",
       "    </tr>\n",
       "    <tr>\n",
       "      <th>116</th>\n",
       "      <td>ROMA SCAFFOLDING INC</td>\n",
       "      <td>715.0</td>\n",
       "      <td>53</td>\n",
       "    </tr>\n",
       "    <tr>\n",
       "      <th>24</th>\n",
       "      <td>BRIAN T. O'CONNOR</td>\n",
       "      <td>64.0</td>\n",
       "      <td>51</td>\n",
       "    </tr>\n",
       "  </tbody>\n",
       "</table>\n",
       "</div>"
      ],
      "text/plain": [
       "     applicant_business_name  age_median  num_sheds_sum\n",
       "8     AE DESIGN SOLUTION INC        69.0            277\n",
       "45   EVEREST SCAFFOLDING INC       500.5            168\n",
       "64     JOEL PHAGOO P.E. PLLC        59.5            124\n",
       "156         VICTOR SUBEN P.E        62.0            108\n",
       "134   SPRING SCAFFOLDING LLC       481.0            104\n",
       "114       ROCK GROUP NY CORP       548.0             99\n",
       "132  SKYWORX CONTRACTING INC       617.0             83\n",
       "95    PHOENIX SUTTON STR INC       468.0             59\n",
       "116     ROMA SCAFFOLDING INC       715.0             53\n",
       "24         BRIAN T. O'CONNOR        64.0             51"
      ]
     },
     "execution_count": 15,
     "metadata": {},
     "output_type": "execute_result"
    }
   ],
   "source": [
    "gby.sort_values('num_sheds_sum', ascending=False).head(10)"
   ]
  },
  {
   "cell_type": "markdown",
   "metadata": {},
   "source": [
    "**A number of companies with a lot of sheds have pretty long median shed ages as well: Everst, Spring, Rock Group, Skyworx, Phoenix, Roma.**"
   ]
  },
  {
   "cell_type": "code",
   "execution_count": 16,
   "metadata": {},
   "outputs": [],
   "source": [
    "# dobmap_11.groupby('applicant_business_name').median()[['age']].sort_values('age', ascending=False).head(20)"
   ]
  },
  {
   "cell_type": "code",
   "execution_count": 17,
   "metadata": {},
   "outputs": [],
   "source": [
    "# dobmap_11.groupby('applicant_business_name').median()[['age', 'num_sheds']].sort_values('num_sheds', ascending=False).head(20)"
   ]
  },
  {
   "cell_type": "markdown",
   "metadata": {},
   "source": [
    "### How many sheds per borough? "
   ]
  },
  {
   "cell_type": "code",
   "execution_count": 18,
   "metadata": {},
   "outputs": [
    {
     "data": {
      "text/plain": [
       "MANHATTAN        1547\n",
       "BRONX             342\n",
       "BROOKLYN          321\n",
       "QUEENS            268\n",
       "STATEN ISLAND      10\n",
       "Name: borough_name, dtype: int64"
      ]
     },
     "execution_count": 18,
     "metadata": {},
     "output_type": "execute_result"
    }
   ],
   "source": [
    "dobmap_11['borough_name'].value_counts()"
   ]
  },
  {
   "cell_type": "markdown",
   "metadata": {},
   "source": [
    "**Manhattan far and away has the most sheds**"
   ]
  },
  {
   "cell_type": "code",
   "execution_count": null,
   "metadata": {},
   "outputs": [],
   "source": [
    "plt.hist(dobmap_11['borough_name'])"
   ]
  },
  {
   "cell_type": "markdown",
   "metadata": {},
   "source": [
    "## Facilities\n",
    "### Do public buildings have sheds? \n",
    "\n",
    "Source: https://data.cityofnewyork.us/City-Government/Facilities-Database-Shapefile/2fpa-bnsx"
   ]
  },
  {
   "cell_type": "code",
   "execution_count": null,
   "metadata": {},
   "outputs": [],
   "source": [
    "facilities = pd.read_csv(\"data/facilities.csv\")\n",
    "print(facilities.shape)\n",
    "facilities.head(3)"
   ]
  },
  {
   "cell_type": "code",
   "execution_count": null,
   "metadata": {},
   "outputs": [],
   "source": [
    "#Changing datatype so they merge\n",
    "dobmap_11['bin_number'] = dobmap_11['bin_number'].astype(str)\n",
    "shed_pub = dobmap_11.merge(facilities, left_on='bin_number', right_on='bin')\n",
    "print(dobmap_11.shape)\n",
    "print(shed_pub.shape)\n",
    "shed_pub.head()"
   ]
  },
  {
   "cell_type": "code",
   "execution_count": null,
   "metadata": {},
   "outputs": [],
   "source": [
    "shed_pub = shed_pub[['bin_number', 'first_permit_date', 'current_date',\n",
    "       'age', 'permit_expiration_date', 'sidewalk_shed_linear_feet', 'current_job_status',\n",
    "       'community_board', 'latitude_point', 'longitude_point', 'house_number',\n",
    "       'street_name', 'borough_digit', 'block', 'lot',\n",
    "       'applicant_business_name', 'activity', 'num_sheds', 'facname', 'facsubgrp', 'factype', 'overagency', 'overabbrev', 'optype']]\n",
    "shed_pub.head(3)"
   ]
  },
  {
   "cell_type": "code",
   "execution_count": null,
   "metadata": {},
   "outputs": [],
   "source": [
    "shed_pub['optype'].value_counts()"
   ]
  },
  {
   "cell_type": "markdown",
   "metadata": {},
   "source": [
    "### Filtering to just public types"
   ]
  },
  {
   "cell_type": "code",
   "execution_count": null,
   "metadata": {},
   "outputs": [],
   "source": [
    "shed_pub = shed_pub[shed_pub['optype'] == 'Public']\n",
    "print(shed_pub.shape)"
   ]
  },
  {
   "cell_type": "markdown",
   "metadata": {},
   "source": [
    "**There are 368 public buildings with sheds up because of Local Law 11**"
   ]
  },
  {
   "cell_type": "code",
   "execution_count": null,
   "metadata": {},
   "outputs": [],
   "source": [
    "shed_pub['facsubgrp'].value_counts().head(10)"
   ]
  },
  {
   "cell_type": "markdown",
   "metadata": {},
   "source": [
    "**What agency have the most sheds up?**"
   ]
  },
  {
   "cell_type": "code",
   "execution_count": null,
   "metadata": {},
   "outputs": [],
   "source": [
    "shed_pub['overagency'].value_counts().head(10)"
   ]
  },
  {
   "cell_type": "markdown",
   "metadata": {},
   "source": [
    "**NYCHA has the most sheds, followed by Office of Mental Health, and DOE**"
   ]
  },
  {
   "cell_type": "code",
   "execution_count": null,
   "metadata": {},
   "outputs": [],
   "source": [
    "print(\"The average public shed has been up for\", round(shed_pub['age'].mean()), \"days.\")\n",
    "print(\"The median public shed has been up for\", round(shed_pub['age'].median()), \"days.\")\n",
    "print(\"The youngest public shed has been up for\", round(shed_pub['age'].min()), \"days.\")\n",
    "print(\"The oldest public shed have been up for\", round(shed_pub['age'].max()), \"days.\")\n",
    "print((shed_pub['age']>365).sum(), \"public sheds have been up for more than 1 year.\")\n",
    "print((shed_pub['age']>365*2).sum(), \"public sheds have been up for more than 2 years.\")\n",
    "print((shed_pub['age']>365*3).sum(), \"public sheds have been up for more than 3 years.\")\n",
    "print((shed_pub['age']>365*4).sum(), \"public sheds have been up for more than 4 years.\")\n",
    "print((shed_pub['age']>365*5).sum(), \"public sheds have been up for more than 5 years.\")\n",
    "print((shed_pub['age']>365*6).sum(), \"public sheds have been up for more than 6 years.\")\n",
    "print((shed_pub['age']>365*7).sum(), \"public sheds have been up for more than 7 years.\")\n",
    "print((shed_pub['age']>365*8).sum(), \"public sheds have been up for more than 8 years.\")"
   ]
  },
  {
   "cell_type": "markdown",
   "metadata": {},
   "source": [
    "**The median age of a shed in front of public buildings is 288 days, which is a bit lower than all sheds overall. However, public buildings also have sheds that have been up multiple years, as well as the longest standing shed (in front of**"
   ]
  },
  {
   "cell_type": "code",
   "execution_count": null,
   "metadata": {},
   "outputs": [],
   "source": [
    "shed_pub[shed_pub['age'] > 3700]"
   ]
  },
  {
   "cell_type": "markdown",
   "metadata": {},
   "source": [
    "### PLUTO (Manhattan only)"
   ]
  },
  {
   "cell_type": "code",
   "execution_count": null,
   "metadata": {},
   "outputs": [],
   "source": [
    "pluto = gpd.GeoDataFrame.from_file('data/mn_mappluto_18v1/MNMapPLUTO.shp')\n",
    "print(pluto.shape)\n",
    "pluto.head()"
   ]
  },
  {
   "cell_type": "code",
   "execution_count": null,
   "metadata": {},
   "outputs": [],
   "source": [
    "pluto.columns"
   ]
  },
  {
   "cell_type": "code",
   "execution_count": null,
   "metadata": {},
   "outputs": [],
   "source": []
  },
  {
   "cell_type": "code",
   "execution_count": null,
   "metadata": {},
   "outputs": [],
   "source": []
  },
  {
   "cell_type": "code",
   "execution_count": null,
   "metadata": {},
   "outputs": [],
   "source": []
  },
  {
   "cell_type": "markdown",
   "metadata": {},
   "source": [
    "### Can we use regression to figure what sheds will stay up the longest?"
   ]
  },
  {
   "cell_type": "code",
   "execution_count": null,
   "metadata": {},
   "outputs": [],
   "source": []
  }
 ],
 "metadata": {
  "kernelspec": {
   "display_name": "Python 3",
   "language": "python",
   "name": "python3"
  },
  "language_info": {
   "codemirror_mode": {
    "name": "ipython",
    "version": 3
   },
   "file_extension": ".py",
   "mimetype": "text/x-python",
   "name": "python",
   "nbconvert_exporter": "python",
   "pygments_lexer": "ipython3",
   "version": "3.6.4"
  }
 },
 "nbformat": 4,
 "nbformat_minor": 2
}
